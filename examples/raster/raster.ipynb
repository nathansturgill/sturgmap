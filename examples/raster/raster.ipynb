{
 "cells": [
  {
   "cell_type": "markdown",
   "metadata": {},
   "source": [
    "[![image](https://colab.research.google.com/assets/colab-badge.svg)](https://githubtocolab.com/nathansturgill/sturgmap/blob/main/docs/examples/raster.ipynb)"
   ]
  },
  {
   "cell_type": "markdown",
   "metadata": {},
   "source": [
    "The code below some of the raster functionality and capability of the sturgmap package"
   ]
  },
  {
   "cell_type": "code",
   "execution_count": 1,
   "metadata": {},
   "outputs": [
    {
     "data": {
      "application/vnd.jupyter.widget-view+json": {
       "model_id": "6d8f56c2a90d46aca2752dccb4fe13a7",
       "version_major": 2,
       "version_minor": 0
      },
      "text/plain": [
       "Map(center=[25, -115], controls=(ZoomControl(options=['position', 'zoom_in_text', 'zoom_in_title', 'zoom_out_t…"
      ]
     },
     "metadata": {},
     "output_type": "display_data"
    }
   ],
   "source": [
    "from ipyleaflet import Map, ImageOverlay\n",
    "\n",
    "m = Map(center=(25, -115), zoom=4)\n",
    "\n",
    "image = ImageOverlay(\n",
    "    url=\"https://i.imgur.com/06Q1fSz.png\",\n",
    "    # url='../06Q1fSz.png',\n",
    "    bounds=((13, -130), (32, -100))\n",
    ")\n",
    "\n",
    "m.add(image)\n",
    "m"
   ]
  },
  {
   "cell_type": "code",
   "execution_count": 2,
   "metadata": {},
   "outputs": [],
   "source": [
    "import ipyleaflet"
   ]
  },
  {
   "cell_type": "code",
   "execution_count": 3,
   "metadata": {},
   "outputs": [
    {
     "data": {
      "text/plain": [
       "(TileLayer(attribution='&copy; <a href=\"https://www.openstreetmap.org/copyright\">OpenStreetMap</a> contributors', base=True, max_zoom=19, min_zoom=1, name='OpenStreetMap.Mapnik', options=['attribution', 'bounds', 'detect_retina', 'max_native_zoom', 'max_zoom', 'min_native_zoom', 'min_zoom', 'no_wrap', 'tile_size', 'tms', 'zoom_offset'], url='https://tile.openstreetmap.org/{z}/{x}/{y}.png'),\n",
       " ImageOverlay(bounds=[(13, -130), (32, -100)], options=['attribution'], url='https://i.imgur.com/06Q1fSz.png'))"
      ]
     },
     "execution_count": 3,
     "metadata": {},
     "output_type": "execute_result"
    }
   ],
   "source": [
    "m.layers"
   ]
  },
  {
   "cell_type": "code",
   "execution_count": 4,
   "metadata": {},
   "outputs": [],
   "source": [
    "import sturgmap"
   ]
  },
  {
   "cell_type": "code",
   "execution_count": 5,
   "metadata": {},
   "outputs": [],
   "source": [
    "import rasterio"
   ]
  },
  {
   "cell_type": "markdown",
   "metadata": {},
   "source": [
    "After importing sturgmap, this code displays how you can use the package to determine the basic statistics of the raster you imported into your basemap and the add_raster function zooms to where the raster is displayed in the map"
   ]
  },
  {
   "cell_type": "code",
   "execution_count": 6,
   "metadata": {},
   "outputs": [
    {
     "name": "stderr",
     "output_type": "stream",
     "text": [
      "Warning 1: TIFFReadDirectory:Sum of Photometric type-related color channels and ExtraSamples doesn't match SamplesPerPixel. Defining non-color channels as ExtraSamples.\n",
      "Warning 1: TIFFReadDirectory:Sum of Photometric type-related color channels and ExtraSamples doesn't match SamplesPerPixel. Defining non-color channels as ExtraSamples.\n",
      "Warning 1: TIFFReadDirectory:Sum of Photometric type-related color channels and ExtraSamples doesn't match SamplesPerPixel. Defining non-color channels as ExtraSamples.\n",
      "Warning 1: TIFFReadDirectory:Sum of Photometric type-related color channels and ExtraSamples doesn't match SamplesPerPixel. Defining non-color channels as ExtraSamples.\n"
     ]
    },
    {
     "name": "stdout",
     "output_type": "stream",
     "text": [
      "Minimum: 488.0\n",
      "Maximum: 2102.0\n",
      "Mean: 1021.3813167550014\n",
      "Standard Deviation: 259.01729567301714\n"
     ]
    },
    {
     "data": {
      "application/vnd.jupyter.widget-view+json": {
       "model_id": "c6df85c9ffac4f2db497553a7d97369d",
       "version_major": 2,
       "version_minor": 0
      },
      "text/plain": [
       "Map(center=[53.40708942911584, 6.875480605829788], controls=(ZoomControl(options=['position', 'zoom_in_text', …"
      ]
     },
     "metadata": {},
     "output_type": "display_data"
    },
    {
     "name": "stderr",
     "output_type": "stream",
     "text": [
      "[2024-05-06 01:03:31,857] ERROR in app: Exception on /api/tiles/9/81/197.png [GET]\n",
      "Traceback (most recent call last):\n",
      "  File \"rasterio/_io.pyx\", line 975, in rasterio._io.DatasetReaderBase._read\n",
      "  File \"rasterio/_io.pyx\", line 213, in rasterio._io.io_multi_band\n",
      "  File \"rasterio/_err.pyx\", line 195, in rasterio._err.exc_wrap_int\n",
      "rasterio._err.CPLE_AppDefinedError: IReadBlock failed at X offset 0, Y offset 1: IReadBlock failed at X offset 1, Y offset 0: TIFFReadEncodedTile() failed.\n",
      "\n",
      "During handling of the above exception, another exception occurred:\n",
      "\n",
      "Traceback (most recent call last):\n",
      "  File \"/Users/williamsturgill/anaconda3/envs/geo/lib/python3.11/site-packages/flask/app.py\", line 1484, in full_dispatch_request\n",
      "    rv = self.dispatch_request()\n",
      "         ^^^^^^^^^^^^^^^^^^^^^^^\n",
      "  File \"/Users/williamsturgill/anaconda3/envs/geo/lib/python3.11/site-packages/flask/app.py\", line 1469, in dispatch_request\n",
      "    return self.ensure_sync(self.view_functions[rule.endpoint])(**view_args)\n",
      "           ^^^^^^^^^^^^^^^^^^^^^^^^^^^^^^^^^^^^^^^^^^^^^^^^^^^^^^^^^^^^^^^^^\n",
      "  File \"/Users/williamsturgill/anaconda3/envs/geo/lib/python3.11/site-packages/flask_restx/api.py\", line 404, in wrapper\n",
      "    resp = resource(*args, **kwargs)\n",
      "           ^^^^^^^^^^^^^^^^^^^^^^^^^\n",
      "  File \"/Users/williamsturgill/anaconda3/envs/geo/lib/python3.11/site-packages/flask/views.py\", line 109, in view\n",
      "    return current_app.ensure_sync(self.dispatch_request)(**kwargs)\n",
      "           ^^^^^^^^^^^^^^^^^^^^^^^^^^^^^^^^^^^^^^^^^^^^^^^^^^^^^^^^\n",
      "  File \"/Users/williamsturgill/anaconda3/envs/geo/lib/python3.11/site-packages/flask_restx/resource.py\", line 46, in dispatch_request\n",
      "    resp = meth(*args, **kwargs)\n",
      "           ^^^^^^^^^^^^^^^^^^^^^\n",
      "  File \"/Users/williamsturgill/anaconda3/envs/geo/lib/python3.11/site-packages/flask_caching/__init__.py\", line 399, in decorated_function\n",
      "    rv = self._call_fn(f, *args, **kwargs)\n",
      "         ^^^^^^^^^^^^^^^^^^^^^^^^^^^^^^^^^\n",
      "  File \"/Users/williamsturgill/anaconda3/envs/geo/lib/python3.11/site-packages/flask_caching/__init__.py\", line 175, in _call_fn\n",
      "    return ensure_sync(fn)(*args, **kwargs)\n",
      "           ^^^^^^^^^^^^^^^^^^^^^^^^^^^^^^^^\n",
      "  File \"/Users/williamsturgill/anaconda3/envs/geo/lib/python3.11/site-packages/localtileserver/web/rest.py\", line 367, in get\n",
      "    tile_binary = tile_source.getTile(x, y, z)\n",
      "                  ^^^^^^^^^^^^^^^^^^^^^^^^^^^^\n",
      "  File \"/Users/williamsturgill/anaconda3/envs/geo/lib/python3.11/site-packages/large_image/cache_util/cache.py\", line 98, in wrapper\n",
      "    v = func(self, *args, **kwargs)\n",
      "        ^^^^^^^^^^^^^^^^^^^^^^^^^^^\n",
      "  File \"/Users/williamsturgill/anaconda3/envs/geo/lib/python3.11/site-packages/large_image_source_rasterio/__init__.py\", line 617, in getTile\n",
      "    tile = vrt.read(resampling=Resampling.nearest)\n",
      "           ^^^^^^^^^^^^^^^^^^^^^^^^^^^^^^^^^^^^^^^\n",
      "  File \"rasterio/_warp.pyx\", line 1240, in rasterio._warp.WarpedVRTReaderBase.read\n",
      "  File \"rasterio/_io.pyx\", line 651, in rasterio._io.DatasetReaderBase.read\n",
      "  File \"rasterio/_io.pyx\", line 978, in rasterio._io.DatasetReaderBase._read\n",
      "rasterio.errors.RasterioIOError: Read or write failed. IReadBlock failed at X offset 0, Y offset 1: IReadBlock failed at X offset 1, Y offset 0: TIFFReadEncodedTile() failed.\n",
      "[2024-05-06 01:03:34,796] ERROR in app: Exception on /api/tiles/9/82/197.png [GET]\n",
      "Traceback (most recent call last):\n",
      "  File \"rasterio/_io.pyx\", line 975, in rasterio._io.DatasetReaderBase._read\n",
      "  File \"rasterio/_io.pyx\", line 213, in rasterio._io.io_multi_band\n",
      "  File \"rasterio/_err.pyx\", line 195, in rasterio._err.exc_wrap_int\n",
      "rasterio._err.CPLE_AppDefinedError: IReadBlock failed at X offset 0, Y offset 1: IReadBlock failed at X offset 2, Y offset 0: TIFFReadEncodedTile() failed.\n",
      "\n",
      "During handling of the above exception, another exception occurred:\n",
      "\n",
      "Traceback (most recent call last):\n",
      "  File \"/Users/williamsturgill/anaconda3/envs/geo/lib/python3.11/site-packages/flask/app.py\", line 1484, in full_dispatch_request\n",
      "    rv = self.dispatch_request()\n",
      "         ^^^^^^^^^^^^^^^^^^^^^^^\n",
      "  File \"/Users/williamsturgill/anaconda3/envs/geo/lib/python3.11/site-packages/flask/app.py\", line 1469, in dispatch_request\n",
      "    return self.ensure_sync(self.view_functions[rule.endpoint])(**view_args)\n",
      "           ^^^^^^^^^^^^^^^^^^^^^^^^^^^^^^^^^^^^^^^^^^^^^^^^^^^^^^^^^^^^^^^^^\n",
      "  File \"/Users/williamsturgill/anaconda3/envs/geo/lib/python3.11/site-packages/flask_restx/api.py\", line 404, in wrapper\n",
      "    resp = resource(*args, **kwargs)\n",
      "           ^^^^^^^^^^^^^^^^^^^^^^^^^\n",
      "  File \"/Users/williamsturgill/anaconda3/envs/geo/lib/python3.11/site-packages/flask/views.py\", line 109, in view\n",
      "    return current_app.ensure_sync(self.dispatch_request)(**kwargs)\n",
      "           ^^^^^^^^^^^^^^^^^^^^^^^^^^^^^^^^^^^^^^^^^^^^^^^^^^^^^^^^\n",
      "  File \"/Users/williamsturgill/anaconda3/envs/geo/lib/python3.11/site-packages/flask_restx/resource.py\", line 46, in dispatch_request\n",
      "    resp = meth(*args, **kwargs)\n",
      "           ^^^^^^^^^^^^^^^^^^^^^\n",
      "  File \"/Users/williamsturgill/anaconda3/envs/geo/lib/python3.11/site-packages/flask_caching/__init__.py\", line 399, in decorated_function\n",
      "    rv = self._call_fn(f, *args, **kwargs)\n",
      "         ^^^^^^^^^^^^^^^^^^^^^^^^^^^^^^^^^\n",
      "  File \"/Users/williamsturgill/anaconda3/envs/geo/lib/python3.11/site-packages/flask_caching/__init__.py\", line 175, in _call_fn\n",
      "    return ensure_sync(fn)(*args, **kwargs)\n",
      "           ^^^^^^^^^^^^^^^^^^^^^^^^^^^^^^^^\n",
      "  File \"/Users/williamsturgill/anaconda3/envs/geo/lib/python3.11/site-packages/localtileserver/web/rest.py\", line 367, in get\n",
      "    tile_binary = tile_source.getTile(x, y, z)\n",
      "                  ^^^^^^^^^^^^^^^^^^^^^^^^^^^^\n",
      "  File \"/Users/williamsturgill/anaconda3/envs/geo/lib/python3.11/site-packages/large_image/cache_util/cache.py\", line 98, in wrapper\n",
      "    v = func(self, *args, **kwargs)\n",
      "        ^^^^^^^^^^^^^^^^^^^^^^^^^^^\n",
      "  File \"/Users/williamsturgill/anaconda3/envs/geo/lib/python3.11/site-packages/large_image_source_rasterio/__init__.py\", line 617, in getTile\n",
      "    tile = vrt.read(resampling=Resampling.nearest)\n",
      "           ^^^^^^^^^^^^^^^^^^^^^^^^^^^^^^^^^^^^^^^\n",
      "  File \"rasterio/_warp.pyx\", line 1240, in rasterio._warp.WarpedVRTReaderBase.read\n",
      "  File \"rasterio/_io.pyx\", line 651, in rasterio._io.DatasetReaderBase.read\n",
      "  File \"rasterio/_io.pyx\", line 978, in rasterio._io.DatasetReaderBase._read\n",
      "rasterio.errors.RasterioIOError: Read or write failed. IReadBlock failed at X offset 0, Y offset 1: IReadBlock failed at X offset 2, Y offset 0: TIFFReadEncodedTile() failed.\n",
      "[2024-05-06 01:03:37,051] ERROR in app: Exception on /api/tiles/9/81/198.png [GET]\n",
      "Traceback (most recent call last):\n",
      "  File \"rasterio/_io.pyx\", line 975, in rasterio._io.DatasetReaderBase._read\n",
      "  File \"rasterio/_io.pyx\", line 213, in rasterio._io.io_multi_band\n",
      "  File \"rasterio/_err.pyx\", line 195, in rasterio._err.exc_wrap_int\n",
      "rasterio._err.CPLE_AppDefinedError: IReadBlock failed at X offset 0, Y offset 0: IReadBlock failed at X offset 0, Y offset 2: TIFFReadEncodedTile() failed.\n",
      "\n",
      "During handling of the above exception, another exception occurred:\n",
      "\n",
      "Traceback (most recent call last):\n",
      "  File \"/Users/williamsturgill/anaconda3/envs/geo/lib/python3.11/site-packages/flask/app.py\", line 1484, in full_dispatch_request\n",
      "    rv = self.dispatch_request()\n",
      "         ^^^^^^^^^^^^^^^^^^^^^^^\n",
      "  File \"/Users/williamsturgill/anaconda3/envs/geo/lib/python3.11/site-packages/flask/app.py\", line 1469, in dispatch_request\n",
      "    return self.ensure_sync(self.view_functions[rule.endpoint])(**view_args)\n",
      "           ^^^^^^^^^^^^^^^^^^^^^^^^^^^^^^^^^^^^^^^^^^^^^^^^^^^^^^^^^^^^^^^^^\n",
      "  File \"/Users/williamsturgill/anaconda3/envs/geo/lib/python3.11/site-packages/flask_restx/api.py\", line 404, in wrapper\n",
      "    resp = resource(*args, **kwargs)\n",
      "           ^^^^^^^^^^^^^^^^^^^^^^^^^\n",
      "  File \"/Users/williamsturgill/anaconda3/envs/geo/lib/python3.11/site-packages/flask/views.py\", line 109, in view\n",
      "    return current_app.ensure_sync(self.dispatch_request)(**kwargs)\n",
      "           ^^^^^^^^^^^^^^^^^^^^^^^^^^^^^^^^^^^^^^^^^^^^^^^^^^^^^^^^\n",
      "  File \"/Users/williamsturgill/anaconda3/envs/geo/lib/python3.11/site-packages/flask_restx/resource.py\", line 46, in dispatch_request\n",
      "    resp = meth(*args, **kwargs)\n",
      "           ^^^^^^^^^^^^^^^^^^^^^\n",
      "  File \"/Users/williamsturgill/anaconda3/envs/geo/lib/python3.11/site-packages/flask_caching/__init__.py\", line 399, in decorated_function\n",
      "    rv = self._call_fn(f, *args, **kwargs)\n",
      "         ^^^^^^^^^^^^^^^^^^^^^^^^^^^^^^^^^\n",
      "  File \"/Users/williamsturgill/anaconda3/envs/geo/lib/python3.11/site-packages/flask_caching/__init__.py\", line 175, in _call_fn\n",
      "    return ensure_sync(fn)(*args, **kwargs)\n",
      "           ^^^^^^^^^^^^^^^^^^^^^^^^^^^^^^^^\n",
      "  File \"/Users/williamsturgill/anaconda3/envs/geo/lib/python3.11/site-packages/localtileserver/web/rest.py\", line 367, in get\n",
      "    tile_binary = tile_source.getTile(x, y, z)\n",
      "                  ^^^^^^^^^^^^^^^^^^^^^^^^^^^^\n",
      "  File \"/Users/williamsturgill/anaconda3/envs/geo/lib/python3.11/site-packages/large_image/cache_util/cache.py\", line 98, in wrapper\n",
      "    v = func(self, *args, **kwargs)\n",
      "        ^^^^^^^^^^^^^^^^^^^^^^^^^^^\n",
      "  File \"/Users/williamsturgill/anaconda3/envs/geo/lib/python3.11/site-packages/large_image_source_rasterio/__init__.py\", line 617, in getTile\n",
      "    tile = vrt.read(resampling=Resampling.nearest)\n",
      "           ^^^^^^^^^^^^^^^^^^^^^^^^^^^^^^^^^^^^^^^\n",
      "  File \"rasterio/_warp.pyx\", line 1240, in rasterio._warp.WarpedVRTReaderBase.read\n",
      "  File \"rasterio/_io.pyx\", line 651, in rasterio._io.DatasetReaderBase.read\n",
      "  File \"rasterio/_io.pyx\", line 978, in rasterio._io.DatasetReaderBase._read\n",
      "rasterio.errors.RasterioIOError: Read or write failed. IReadBlock failed at X offset 0, Y offset 0: IReadBlock failed at X offset 0, Y offset 2: TIFFReadEncodedTile() failed.\n",
      "[2024-05-06 01:03:39,812] ERROR in app: Exception on /api/tiles/9/82/198.png [GET]\n",
      "Traceback (most recent call last):\n",
      "  File \"rasterio/_io.pyx\", line 975, in rasterio._io.DatasetReaderBase._read\n",
      "  File \"rasterio/_io.pyx\", line 213, in rasterio._io.io_multi_band\n",
      "  File \"rasterio/_err.pyx\", line 195, in rasterio._err.exc_wrap_int\n",
      "rasterio._err.CPLE_AppDefinedError: IReadBlock failed at X offset 0, Y offset 0: IReadBlock failed at X offset 2, Y offset 2: TIFFReadEncodedTile() failed.\n",
      "\n",
      "During handling of the above exception, another exception occurred:\n",
      "\n",
      "Traceback (most recent call last):\n",
      "  File \"/Users/williamsturgill/anaconda3/envs/geo/lib/python3.11/site-packages/flask/app.py\", line 1484, in full_dispatch_request\n",
      "    rv = self.dispatch_request()\n",
      "         ^^^^^^^^^^^^^^^^^^^^^^^\n",
      "  File \"/Users/williamsturgill/anaconda3/envs/geo/lib/python3.11/site-packages/flask/app.py\", line 1469, in dispatch_request\n",
      "    return self.ensure_sync(self.view_functions[rule.endpoint])(**view_args)\n",
      "           ^^^^^^^^^^^^^^^^^^^^^^^^^^^^^^^^^^^^^^^^^^^^^^^^^^^^^^^^^^^^^^^^^\n",
      "  File \"/Users/williamsturgill/anaconda3/envs/geo/lib/python3.11/site-packages/flask_restx/api.py\", line 404, in wrapper\n",
      "    resp = resource(*args, **kwargs)\n",
      "           ^^^^^^^^^^^^^^^^^^^^^^^^^\n",
      "  File \"/Users/williamsturgill/anaconda3/envs/geo/lib/python3.11/site-packages/flask/views.py\", line 109, in view\n",
      "    return current_app.ensure_sync(self.dispatch_request)(**kwargs)\n",
      "           ^^^^^^^^^^^^^^^^^^^^^^^^^^^^^^^^^^^^^^^^^^^^^^^^^^^^^^^^\n",
      "  File \"/Users/williamsturgill/anaconda3/envs/geo/lib/python3.11/site-packages/flask_restx/resource.py\", line 46, in dispatch_request\n",
      "    resp = meth(*args, **kwargs)\n",
      "           ^^^^^^^^^^^^^^^^^^^^^\n",
      "  File \"/Users/williamsturgill/anaconda3/envs/geo/lib/python3.11/site-packages/flask_caching/__init__.py\", line 399, in decorated_function\n",
      "    rv = self._call_fn(f, *args, **kwargs)\n",
      "         ^^^^^^^^^^^^^^^^^^^^^^^^^^^^^^^^^\n",
      "  File \"/Users/williamsturgill/anaconda3/envs/geo/lib/python3.11/site-packages/flask_caching/__init__.py\", line 175, in _call_fn\n",
      "    return ensure_sync(fn)(*args, **kwargs)\n",
      "           ^^^^^^^^^^^^^^^^^^^^^^^^^^^^^^^^\n",
      "  File \"/Users/williamsturgill/anaconda3/envs/geo/lib/python3.11/site-packages/localtileserver/web/rest.py\", line 367, in get\n",
      "    tile_binary = tile_source.getTile(x, y, z)\n",
      "                  ^^^^^^^^^^^^^^^^^^^^^^^^^^^^\n",
      "  File \"/Users/williamsturgill/anaconda3/envs/geo/lib/python3.11/site-packages/large_image/cache_util/cache.py\", line 98, in wrapper\n",
      "    v = func(self, *args, **kwargs)\n",
      "        ^^^^^^^^^^^^^^^^^^^^^^^^^^^\n",
      "  File \"/Users/williamsturgill/anaconda3/envs/geo/lib/python3.11/site-packages/large_image_source_rasterio/__init__.py\", line 617, in getTile\n",
      "    tile = vrt.read(resampling=Resampling.nearest)\n",
      "           ^^^^^^^^^^^^^^^^^^^^^^^^^^^^^^^^^^^^^^^\n",
      "  File \"rasterio/_warp.pyx\", line 1240, in rasterio._warp.WarpedVRTReaderBase.read\n",
      "  File \"rasterio/_io.pyx\", line 651, in rasterio._io.DatasetReaderBase.read\n",
      "  File \"rasterio/_io.pyx\", line 978, in rasterio._io.DatasetReaderBase._read\n",
      "rasterio.errors.RasterioIOError: Read or write failed. IReadBlock failed at X offset 0, Y offset 0: IReadBlock failed at X offset 2, Y offset 2: TIFFReadEncodedTile() failed.\n"
     ]
    }
   ],
   "source": [
    "m = sturgmap.Map()\n",
    "raster= 'https://github.com/opengeos/datasets/releases/download/raster/cog.tif'\n",
    "m.add_raster(raster)\n",
    "with rasterio.open(raster) as src:\n",
    "    m.calculate_statistics(src)\n",
    "\n",
    "m"
   ]
  },
  {
   "cell_type": "code",
   "execution_count": 7,
   "metadata": {},
   "outputs": [],
   "source": [
    "import sturgmap "
   ]
  },
  {
   "cell_type": "markdown",
   "metadata": {},
   "source": [
    "The code below shows how you can use the add image function to overlay an image onto your basemap"
   ]
  },
  {
   "cell_type": "code",
   "execution_count": 8,
   "metadata": {},
   "outputs": [
    {
     "data": {
      "application/vnd.jupyter.widget-view+json": {
       "model_id": "128561f8563d432390a5969108e02080",
       "version_major": 2,
       "version_minor": 0
      },
      "text/plain": [
       "Map(center=[20, 0], controls=(ZoomControl(options=['position', 'zoom_in_text', 'zoom_in_title', 'zoom_out_text…"
      ]
     },
     "metadata": {},
     "output_type": "display_data"
    }
   ],
   "source": [
    "m= sturgmap.Map()\n",
    "\n",
    "m.add_basemap('OpenTopoMap')\n",
    "image_url = 'https://gifer.com/en/3P6H'\n",
    "image_bounds = [(0, -60), (30, -30)]\n",
    "m.add_image(url=image_url, bounds=image_bounds, name='Test Image Overlay')\n",
    "\n",
    "m\n"
   ]
  },
  {
   "cell_type": "markdown",
   "metadata": {},
   "source": [
    "This code shows how you can add a raster tif file to your basemap for display directly from a url link. The same can be done if you have a locally installed raster file"
   ]
  },
  {
   "cell_type": "code",
   "execution_count": 9,
   "metadata": {},
   "outputs": [
    {
     "data": {
      "application/vnd.jupyter.widget-view+json": {
       "model_id": "9ddfd663349d4fbc9dc6d5ceaba97a18",
       "version_major": 2,
       "version_minor": 0
      },
      "text/plain": [
       "Map(center=[37.77362148225351, -122.34097463930294], controls=(ZoomControl(options=['position', 'zoom_in_text'…"
      ]
     },
     "metadata": {},
     "output_type": "display_data"
    },
    {
     "name": "stderr",
     "output_type": "stream",
     "text": [
      "ERROR 1: TIFFFillTile:Read error at row 0, col 0, tile 1; got 0 bytes, expected 158099\n",
      "ERROR 1: TIFFReadEncodedTile() failed.\n",
      "ERROR 1: IReadBlock failed at X offset 1, Y offset 0: TIFFReadEncodedTile() failed.\n",
      "ERROR 1: IReadBlock failed at X offset 0, Y offset 1: IReadBlock failed at X offset 1, Y offset 0: TIFFReadEncodedTile() failed.\n",
      "ERROR 1: Request for 1917567-2607004 failed with response_code=401\n",
      "ERROR 1: Request for 2887615-3514996 failed with response_code=401\n",
      "ERROR 1: Request for 3881652-4356208 failed with response_code=401\n",
      "ERROR 1: TIFFFillTile:Read error at row 0, col 0, tile 2; got 0 bytes, expected 293852\n",
      "ERROR 1: TIFFReadEncodedTile() failed.\n",
      "ERROR 1: IReadBlock failed at X offset 2, Y offset 0: TIFFReadEncodedTile() failed.\n",
      "ERROR 1: IReadBlock failed at X offset 0, Y offset 1: IReadBlock failed at X offset 2, Y offset 0: TIFFReadEncodedTile() failed.\n",
      "ERROR 1: Request for 3514993-3958377 failed with response_code=401\n",
      "ERROR 1: Request for 4356205-4670438 failed with response_code=401\n",
      "ERROR 1: TIFFFillTile:Read error at row 0, col 0, tile 10; got 0 bytes, expected 53305\n",
      "ERROR 1: TIFFReadEncodedTile() failed.\n",
      "ERROR 1: IReadBlock failed at X offset 0, Y offset 2: TIFFReadEncodedTile() failed.\n",
      "ERROR 1: IReadBlock failed at X offset 0, Y offset 0: IReadBlock failed at X offset 0, Y offset 2: TIFFReadEncodedTile() failed.\n",
      "ERROR 1: Request for 3881652-4356208 failed with response_code=401\n",
      "ERROR 1: Request for 4606259-4872763 failed with response_code=401\n",
      "ERROR 1: TIFFFillTile:Read error at row 0, col 0, tile 12; got 0 bytes, expected 76714\n",
      "ERROR 1: TIFFReadEncodedTile() failed.\n",
      "ERROR 1: IReadBlock failed at X offset 2, Y offset 2: TIFFReadEncodedTile() failed.\n",
      "ERROR 1: IReadBlock failed at X offset 0, Y offset 0: IReadBlock failed at X offset 2, Y offset 2: TIFFReadEncodedTile() failed.\n"
     ]
    }
   ],
   "source": [
    "m = sturgmap.Map()\n",
    "data= 'https://github.com/opengeos/datasets/releases/download/raster/landsat7.tif'\n",
    "m.add_raster(data, name=\"Landsat\")\n",
    "\n",
    "m"
   ]
  },
  {
   "cell_type": "markdown",
   "metadata": {},
   "source": [
    "The code below shows how you can compute the histogram of pixel values for your raster using the sturgmap code in line with rasterio"
   ]
  },
  {
   "cell_type": "code",
   "execution_count": 10,
   "metadata": {},
   "outputs": [
    {
     "name": "stderr",
     "output_type": "stream",
     "text": [
      "Warning 1: TIFFReadDirectory:Sum of Photometric type-related color channels and ExtraSamples doesn't match SamplesPerPixel. Defining non-color channels as ExtraSamples.\n",
      "Warning 1: TIFFReadDirectory:Sum of Photometric type-related color channels and ExtraSamples doesn't match SamplesPerPixel. Defining non-color channels as ExtraSamples.\n",
      "Warning 1: TIFFReadDirectory:Sum of Photometric type-related color channels and ExtraSamples doesn't match SamplesPerPixel. Defining non-color channels as ExtraSamples.\n",
      "Warning 1: TIFFReadDirectory:Sum of Photometric type-related color channels and ExtraSamples doesn't match SamplesPerPixel. Defining non-color channels as ExtraSamples.\n"
     ]
    },
    {
     "data": {
      "image/png": "[encoded data removed]",
      "text/plain": [
       "<Figure size 640x480 with 1 Axes>"
      ]
     },
     "metadata": {},
     "output_type": "display_data"
    },
    {
     "data": {
      "application/vnd.jupyter.widget-view+json": {
       "model_id": "55e5cef5f164418784b188017db65a18",
       "version_major": 2,
       "version_minor": 0
      },
      "text/plain": [
       "Map(center=[53.40708942911584, 6.875480605829788], controls=(ZoomControl(options=['position', 'zoom_in_text', …"
      ]
     },
     "metadata": {},
     "output_type": "display_data"
    }
   ],
   "source": [
    "m = sturgmap.Map()\n",
    "raster= 'https://github.com/opengeos/datasets/releases/download/raster/cog.tif'\n",
    "m.add_raster(raster)\n",
    "with rasterio.open(raster) as raster:  \n",
    "    m.display_raster_histogram(raster)\n",
    "m"
   ]
  },
  {
   "cell_type": "code",
   "execution_count": 11,
   "metadata": {},
   "outputs": [
    {
     "data": {
      "application/vnd.jupyter.widget-view+json": {
       "model_id": "31f656df0bb6495b9dbb436892ee335c",
       "version_major": 2,
       "version_minor": 0
      },
      "text/plain": [
       "Map(center=[53.40708942911584, 6.875480605829788], controls=(ZoomControl(options=['position', 'zoom_in_text', …"
      ]
     },
     "metadata": {},
     "output_type": "display_data"
    }
   ],
   "source": [
    "m = sturgmap.Map()\n",
    "raster= 'https://github.com/opengeos/datasets/releases/download/raster/cog.tif'\n",
    "m.add_raster(raster)\n",
    "with rasterio.open(raster) as raster:  \n",
    "    m.compute_ndvi(raster,raster)\n",
    "m"
   ]
  }
 ],
 "metadata": {
  "kernelspec": {
   "display_name": "geo",
   "language": "python",
   "name": "python3"
  },
  "language_info": {
   "codemirror_mode": {
    "name": "ipython",
    "version": 3
   },
   "file_extension": ".py",
   "mimetype": "text/x-python",
   "name": "python",
   "nbconvert_exporter": "python",
   "pygments_lexer": "ipython3",
   "version": "3.11.7"
  }
 },
 "nbformat": 4,
 "nbformat_minor": 2
}
