{
 "cells": [
  {
   "cell_type": "code",
   "execution_count": null,
   "metadata": {},
   "outputs": [],
   "source": [
    "import sturgmap"
   ]
  },
  {
   "cell_type": "code",
   "execution_count": null,
   "metadata": {},
   "outputs": [],
   "source": [
    "m=sturgmap.Map(center=[40,-10], zoom=2)\n",
    "m"
   ]
  },
  {
   "cell_type": "code",
   "execution_count": null,
   "metadata": {},
   "outputs": [],
   "source": [
    "import sturgmap.foliumap as sturgmap\n"
   ]
  },
  {
   "cell_type": "code",
   "execution_count": null,
   "metadata": {},
   "outputs": [],
   "source": [
    "m= sturgmap.Map()\n",
    "url = \"https://github.com/opengeos/datasets/releases/download/raster/landsat7.tif\"\n",
    "m.add_raster(url, name='landsat.tif', opacity=0.4)\n",
    "m"
   ]
  },
  {
   "cell_type": "code",
   "execution_count": null,
   "metadata": {},
   "outputs": [],
   "source": [
    "m= sturgmap.Map(center=(40, -100))\n",
    "m.add_basemap('OpenTopoMap')\n",
    "m"
   ]
  },
  {
   "cell_type": "code",
   "execution_count": null,
   "metadata": {},
   "outputs": [],
   "source": [
    "import sturgmap.foliumap as sturgmap\n",
    "import folium"
   ]
  },
  {
   "cell_type": "code",
   "execution_count": null,
   "metadata": {},
   "outputs": [],
   "source": [
    "m = sturgmap.Map(center=[20, 0], zoom=2)\n",
    "\n",
    "\n",
    "left_layers = \"https://github.com/opengeos/datasets/releases/download/raster/landsat.tif\"\n",
    "right_layers = \"https://github.com/opengeos/datasets/releases/download/raster/srtm90.tif\"\n",
    "\n",
    "#m.left_layers = left_layers\n",
    "#m.right_layers = right_layers\n",
    "\n",
    "m.raster_split_map(left_layers,right_layers,\"left_name\",\"right_name\")\n",
    "m"
   ]
  },
  {
   "cell_type": "code",
   "execution_count": null,
   "metadata": {},
   "outputs": [],
   "source": [
    "m = sturgmap.Map()\n",
    "\n",
    "left_basemap_url = \"https://github.com/opengeos/datasets/releases/download/raster/Libya-2023-07-01.tif\"\n",
    "right_basemap_url = \"https://github.com/opengeos/datasets/releases/download/raster/Libya-2023-09-13.tif\"\n",
    "\n",
    "m.left_layers = [left_basemap_url]\n",
    "m.right_layers = [right_basemap_url]\n",
    "\n",
    "\n",
    "m.raster_split_map()\n",
    "\n",
    "m"
   ]
  },
  {
   "cell_type": "code",
   "execution_count": null,
   "metadata": {},
   "outputs": [],
   "source": [
    "m= sturgmap.Map([30, 20], zoom=4)\n",
    "layer_left = folium.TileLayer('cartodbpositron')\n",
    "layer_right = folium.TileLayer('openstreetmap')\n",
    "\n",
    "m.add_side_by_side_layers(layer_left, layer_right)\n",
    "\n",
    "m"
   ]
  },
  {
   "cell_type": "code",
   "execution_count": null,
   "metadata": {},
   "outputs": [],
   "source": [
    "#m = folium.Map(location=(30, 20), zoom_start=4)\n",
    "m= sturgmap.Map([30, 20], zoom=4)\n",
    "\n",
    "layer_right = folium.TileLayer('openstreetmap')\n",
    "layer_left = folium.TileLayer('cartodbpositron')\n",
    "\n",
    "sbs = folium.plugins.SideBySideLayers(layer_left=layer_left, layer_right=layer_right)\n",
    "\n",
    "layer_left.add_to(m)\n",
    "layer_right.add_to(m)\n",
    "sbs.add_to(m)\n",
    "\n",
    "m"
   ]
  },
  {
   "cell_type": "code",
   "execution_count": null,
   "metadata": {},
   "outputs": [],
   "source": [
    "m= sturgmap.Map()\n",
    "m.add_shapefile(\"https://github.com/opengeos/datasets/releases/download/us/us_counties.zip\", name=\"Countries\")\n",
    "m.add_layers_control()\n",
    "\n",
    "m"
   ]
  }
 ],
 "metadata": {
  "kernelspec": {
   "display_name": "geo",
   "language": "python",
   "name": "python3"
  },
  "language_info": {
   "codemirror_mode": {
    "name": "ipython",
    "version": 3
   },
   "file_extension": ".py",
   "mimetype": "text/x-python",
   "name": "python",
   "nbconvert_exporter": "python",
   "pygments_lexer": "ipython3",
   "version": "3.11.7"
  }
 },
 "nbformat": 4,
 "nbformat_minor": 2
}
