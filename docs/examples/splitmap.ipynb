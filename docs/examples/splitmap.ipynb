{
 "cells": [
  {
   "cell_type": "code",
   "execution_count": 1,
   "metadata": {},
   "outputs": [],
   "source": [
    "import sturgmap"
   ]
  },
  {
   "cell_type": "code",
   "execution_count": 2,
   "metadata": {},
   "outputs": [
    {
     "ename": "NameError",
     "evalue": "name 'ipyleaflet' is not defined",
     "output_type": "error",
     "traceback": [
      "\u001b[0;31m---------------------------------------------------------------------------\u001b[0m",
      "\u001b[0;31mNameError\u001b[0m                                 Traceback (most recent call last)",
      "Cell \u001b[0;32mIn[2], line 8\u001b[0m\n\u001b[1;32m      5\u001b[0m left_layer_url \u001b[38;5;241m=\u001b[39m \u001b[38;5;124m\"\u001b[39m\u001b[38;5;124mhttps://\u001b[39m\u001b[38;5;132;01m{s}\u001b[39;00m\u001b[38;5;124m.tile.openstreetmap.org/\u001b[39m\u001b[38;5;132;01m{z}\u001b[39;00m\u001b[38;5;124m/\u001b[39m\u001b[38;5;132;01m{x}\u001b[39;00m\u001b[38;5;124m/\u001b[39m\u001b[38;5;132;01m{y}\u001b[39;00m\u001b[38;5;124m.png\u001b[39m\u001b[38;5;124m\"\u001b[39m\n\u001b[1;32m      6\u001b[0m right_layer_url \u001b[38;5;241m=\u001b[39m \u001b[38;5;124m\"\u001b[39m\u001b[38;5;124mhttps://stamen-tiles-\u001b[39m\u001b[38;5;132;01m{s}\u001b[39;00m\u001b[38;5;124m.a.ssl.fastly.net/\u001b[39m\u001b[38;5;132;01m{z}\u001b[39;00m\u001b[38;5;124m/\u001b[39m\u001b[38;5;132;01m{x}\u001b[39;00m\u001b[38;5;124m/\u001b[39m\u001b[38;5;132;01m{y}\u001b[39;00m\u001b[38;5;124m.\u001b[39m\u001b[38;5;132;01m{ext}\u001b[39;00m\u001b[38;5;124m\"\u001b[39m\n\u001b[0;32m----> 8\u001b[0m left_layer \u001b[38;5;241m=\u001b[39m \u001b[43mipyleaflet\u001b[49m\u001b[38;5;241m.\u001b[39mTileLayer(url\u001b[38;5;241m=\u001b[39mleft_layer_url, name\u001b[38;5;241m=\u001b[39m\u001b[38;5;124m\"\u001b[39m\u001b[38;5;124mOpenStreetMap\u001b[39m\u001b[38;5;124m\"\u001b[39m)\n\u001b[1;32m      9\u001b[0m right_layer \u001b[38;5;241m=\u001b[39m ipyleaflet\u001b[38;5;241m.\u001b[39mTileLayer(url\u001b[38;5;241m=\u001b[39mright_layer_url, name\u001b[38;5;241m=\u001b[39m\u001b[38;5;124m\"\u001b[39m\u001b[38;5;124mStamen TonerLite\u001b[39m\u001b[38;5;124m\"\u001b[39m)\n\u001b[1;32m     11\u001b[0m m\u001b[38;5;241m.\u001b[39msplit_map(left_layer, right_layer)\n",
      "\u001b[0;31mNameError\u001b[0m: name 'ipyleaflet' is not defined"
     ]
    }
   ],
   "source": [
    "center = [35.68, 139.77]  \n",
    "zoom = 12\n",
    "m = sturgmap.Map(center=center, zoom=zoom)\n",
    "\n",
    "left_layer_url = \"https://{s}.tile.openstreetmap.org/{z}/{x}/{y}.png\"\n",
    "right_layer_url = \"https://stamen-tiles-{s}.a.ssl.fastly.net/{z}/{x}/{y}.{ext}\"\n",
    "\n",
    "left_layer = ipyleaflet.TileLayer(url=left_layer_url, name=\"OpenStreetMap\")\n",
    "right_layer = ipyleaflet.TileLayer(url=right_layer_url, name=\"Stamen TonerLite\")\n",
    "\n",
    "m.split_map(left_layer, right_layer)\n",
    "\n",
    "m\n"
   ]
  }
 ],
 "metadata": {
  "kernelspec": {
   "display_name": "geo",
   "language": "python",
   "name": "python3"
  },
  "language_info": {
   "codemirror_mode": {
    "name": "ipython",
    "version": 3
   },
   "file_extension": ".py",
   "mimetype": "text/x-python",
   "name": "python",
   "nbconvert_exporter": "python",
   "pygments_lexer": "ipython3",
   "version": "3.11.7"
  }
 },
 "nbformat": 4,
 "nbformat_minor": 2
}
