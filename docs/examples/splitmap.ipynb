{
 "cells": [
  {
   "cell_type": "code",
   "execution_count": null,
   "metadata": {},
   "outputs": [],
   "source": [
    "import sturgmap\n",
    "\n",
    "\n"
   ]
  },
  {
   "cell_type": "code",
   "execution_count": null,
   "metadata": {},
   "outputs": [],
   "source": [
    "m = sturgmap.Map(center=(40.7128, -74.0059), zoom=13)\n",
    "m.split_map_basemap(left_layer=\"https://server.arcgisonline.com/ArcGIS/rest/services/World_Imagery/MapServer/tile/{z}/{y}/{x}\", right_layer=\"https://{s}.tiles.mapbox.com/v4/mapbox.streets/{z}/{x}/{y}.png\")\n",
    "\n",
    "m.add_scale_bar()\n",
    "m"
   ]
  },
  {
   "cell_type": "code",
   "execution_count": null,
   "metadata": {},
   "outputs": [],
   "source": [
    "m=sturgmap.Map()\n",
    "m.add_basemap('Esri.WorldImagery')\n",
    "m"
   ]
  },
  {
   "cell_type": "code",
   "execution_count": null,
   "metadata": {},
   "outputs": [],
   "source": [
    "m.layers"
   ]
  },
  {
   "cell_type": "code",
   "execution_count": null,
   "metadata": {},
   "outputs": [],
   "source": [
    "m =sturgmap.Map()\n",
    "left_layer = basemap_to_tiles(basemap=basemaps.OpenTopoMap)\n",
    "right_layer = basemap_to_tiles(basemap=basemaps.Esri.WorldImagery)\n",
    "m.add_split_map(left_layer=left_layer, right_layer=right_layer)\n",
    "m"
   ]
  }
 ],
 "metadata": {
  "kernelspec": {
   "display_name": "geo",
   "language": "python",
   "name": "python3"
  },
  "language_info": {
   "codemirror_mode": {
    "name": "ipython",
    "version": 3
   },
   "file_extension": ".py",
   "mimetype": "text/x-python",
   "name": "python",
   "nbconvert_exporter": "python",
   "pygments_lexer": "ipython3",
   "version": "3.11.7"
  }
 },
 "nbformat": 4,
 "nbformat_minor": 2
}
