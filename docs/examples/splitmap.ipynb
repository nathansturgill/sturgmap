{
 "cells": [
  {
   "cell_type": "code",
   "execution_count": 3,
   "metadata": {},
   "outputs": [],
   "source": [
    "import sturgmap"
   ]
  },
  {
   "cell_type": "code",
   "execution_count": 5,
   "metadata": {},
   "outputs": [
    {
     "ename": "AttributeError",
     "evalue": "'Map' object has no attribute 'add_basemap_to_split'",
     "output_type": "error",
     "traceback": [
      "\u001b[0;31m---------------------------------------------------------------------------\u001b[0m",
      "\u001b[0;31mAttributeError\u001b[0m                            Traceback (most recent call last)",
      "Cell \u001b[0;32mIn[5], line 2\u001b[0m\n\u001b[1;32m      1\u001b[0m m\u001b[38;5;241m=\u001b[39msturgmap\u001b[38;5;241m.\u001b[39mMap()\n\u001b[0;32m----> 2\u001b[0m \u001b[43mm\u001b[49m\u001b[38;5;241;43m.\u001b[39;49m\u001b[43madd_basemap_to_split\u001b[49m(\u001b[38;5;124m\"\u001b[39m\u001b[38;5;124mOpenStreetMap\u001b[39m\u001b[38;5;124m\"\u001b[39m, side\u001b[38;5;241m=\u001b[39m\u001b[38;5;124m\"\u001b[39m\u001b[38;5;124mleft\u001b[39m\u001b[38;5;124m\"\u001b[39m)\n\u001b[1;32m      3\u001b[0m m\u001b[38;5;241m.\u001b[39madd_basemap_to_split(\u001b[38;5;124m\"\u001b[39m\u001b[38;5;124mEsri.WorldImagery\u001b[39m\u001b[38;5;124m\"\u001b[39m, side\u001b[38;5;241m=\u001b[39m\u001b[38;5;124m\"\u001b[39m\u001b[38;5;124mright\u001b[39m\u001b[38;5;124m\"\u001b[39m)\n\u001b[1;32m      5\u001b[0m m\n",
      "\u001b[0;31mAttributeError\u001b[0m: 'Map' object has no attribute 'add_basemap_to_split'"
     ]
    }
   ],
   "source": [
    "m=sturgmap.Map()\n",
    "m.add_basemap_to_split(\"OpenStreetMap\", side=\"left\")\n",
    "m.add_basemap_to_split(\"Esri.WorldImagery\", side=\"right\")\n",
    "\n",
    "m\n"
   ]
  }
 ],
 "metadata": {
  "kernelspec": {
   "display_name": "geo",
   "language": "python",
   "name": "python3"
  },
  "language_info": {
   "codemirror_mode": {
    "name": "ipython",
    "version": 3
   },
   "file_extension": ".py",
   "mimetype": "text/x-python",
   "name": "python",
   "nbconvert_exporter": "python",
   "pygments_lexer": "ipython3",
   "version": "3.11.7"
  }
 },
 "nbformat": 4,
 "nbformat_minor": 2
}
