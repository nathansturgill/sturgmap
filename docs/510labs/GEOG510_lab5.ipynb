{
 "cells": [
  {
   "cell_type": "markdown",
   "id": "0",
   "metadata": {
    "id": "0"
   },
   "source": [
    "# Lab 5\n",
    "\n",
    "[![image](https://colab.research.google.com/assets/colab-badge.svg)](https://colab.research.google.com/github/giswqs/geohey/blob/main/docs/labs/lab5.ipynb)\n",
    "\n",
    "## Submission instructions\n",
    "\n",
    "1. Download the notebook from https://geohey.gishub.org/labs/lab5\n",
    "2. Complete the lab questions\n",
    "3. Restart Kernel and Run All Cells\n",
    "4. Upload the notebook to your GitHub repository\n",
    "5. Make sure the notebook has an `Open In Colab` badge. Click on the badge to make sure your notebook can be opened in Colab.\n",
    "6. Submit the link to the notebook on your GitHub repository to Canvas"
   ]
  },
  {
   "cell_type": "markdown",
   "id": "1",
   "metadata": {
    "id": "1"
   },
   "source": [
    "## Question 1\n",
    "\n",
    "**Person:** Use a dictionary to store information about a person you know. Store their first name, last name, age, and the city in which they live. You should have keys such as first_name, last_name, age, and city. Print each piece of information stored in your dictionary."
   ]
  },
  {
   "cell_type": "code",
   "execution_count": 1,
   "id": "2",
   "metadata": {
    "id": "2",
    "tags": []
   },
   "outputs": [
    {
     "name": "stdout",
     "output_type": "stream",
     "text": [
      "Morgan\n",
      "Freeman\n",
      "30\n",
      "New York\n"
     ]
    }
   ],
   "source": [
    "person_info = {\n",
    "    \"first_name\": \"Morgan\",\n",
    "    \"last_name\": \"Freeman\",\n",
    "    \"age\": 30,\n",
    "    \"city\": \"New York\"\n",
    "}\n",
    "\n",
    "print( person_info[\"first_name\"])\n",
    "print( person_info[\"last_name\"])\n",
    "print( person_info[\"age\"])\n",
    "print( person_info[\"city\"])\n"
   ]
  },
  {
   "cell_type": "markdown",
   "id": "3",
   "metadata": {
    "id": "3"
   },
   "source": [
    "## Question 2\n",
    "\n",
    "**Favorite Numbers:** Use a dictionary to store people’s favorite numbers. Think of five names, and use them as keys in your dictionary. Think of a favorite number for each person, and store each as a value in your dictionary. Print each person’s name and their favorite number. For even more fun, poll a few friends and get some actual data for your program."
   ]
  },
  {
   "cell_type": "code",
   "execution_count": 2,
   "id": "4",
   "metadata": {
    "id": "4",
    "tags": []
   },
   "outputs": [
    {
     "name": "stdout",
     "output_type": "stream",
     "text": [
      "Alice's favorite number is 7.\n",
      "Bob's favorite number is 12.\n",
      "Charlie's favorite number is 5.\n",
      "David's favorite number is 9.\n",
      "Emily's favorite number is 3.\n"
     ]
    }
   ],
   "source": [
    "favorite_numbers = {\n",
    "    \"Alice\": 7,\n",
    "    \"Bob\": 12,\n",
    "    \"Charlie\": 5,\n",
    "    \"David\": 9,\n",
    "    \"Emily\": 3\n",
    "}\n",
    "\n",
    "for name, number in favorite_numbers.items():\n",
    "    print(f\"{name}'s favorite number is {number}.\")\n"
   ]
  },
  {
   "cell_type": "markdown",
   "id": "5",
   "metadata": {
    "id": "5"
   },
   "source": [
    "## Question 3\n",
    "\n",
    "**Glossary:** A Python dictionary can be used to model an actual dictionary. However, to avoid confusion, let’s call it a glossary.\n",
    "\n",
    "- Think of five programming words you’ve learned about in the previous chapters. Use these words as the keys in your glossary, and store their meanings as values.\n",
    "- Print each word and its meaning as neatly formatted output. You might print the word followed by a colon and then its meaning, or print the word on one line and then print its meaning indented on a second line. Use the newline character (\\n) to insert a blank line between each word-meaning pair in your output."
   ]
  },
  {
   "cell_type": "code",
   "execution_count": 3,
   "id": "6",
   "metadata": {
    "id": "6",
    "tags": []
   },
   "outputs": [
    {
     "name": "stdout",
     "output_type": "stream",
     "text": [
      "variable: A placeholder for storing data value.\n",
      "\n",
      "comment: A comment allows you to wrote notes in English in your parameters.\n",
      "\n",
      "function: A block of code that only runs when it is called.\n",
      "\n",
      "list: A list is a collection of items in a particular order\n",
      "\n",
      "loop: A programming construct that repeats a block of code until a specified condition is met.\n",
      "\n",
      "dictionary: A collection which is unordered, changeable, and indexed. No duplicate members.\n",
      "\n"
     ]
    }
   ],
   "source": [
    "\n",
    "glossary = {\n",
    "    \"variable\": \"A placeholder for storing data value.\",\n",
    "    \"comment\": \"A comment allows you to wrote notes in English in your parameters.\",\n",
    "    \"function\": \"A block of code that only runs when it is called.\",\n",
    "    \"list\": \"A list is a collection of items in a particular order\",\n",
    "    \"loop\": \"A programming construct that repeats a block of code until a specified condition is met.\",\n",
    "    \"dictionary\": \"A collection which is unordered, changeable, and indexed. No duplicate members.\"\n",
    "}\n",
    "\n",
    "\n",
    "for word, meaning in glossary.items():\n",
    "    print(f\"{word}: {meaning}\\n\")\n"
   ]
  },
  {
   "cell_type": "markdown",
   "id": "7",
   "metadata": {
    "id": "7"
   },
   "source": [
    "## Question 4\n",
    "\n",
    "**Glossary 2:** Now that you know how to loop through a dictionary, clean up the code from Question 3 by replacing your series of print() calls with a loop that runs through the dictionary’s keys and values. When you’re sure that your loop works, add five more Python terms to your glossary. When you run your program again, these new words and meanings should automatically be included in the output."
   ]
  },
  {
   "cell_type": "code",
   "execution_count": 4,
   "id": "8",
   "metadata": {
    "id": "8"
   },
   "outputs": [
    {
     "name": "stdout",
     "output_type": "stream",
     "text": [
      "variable:\n",
      " A placeholder for storing data value.\n",
      "\n",
      "comment:\n",
      " A comment allows you to write notes in English in your parameters.\n",
      "\n",
      "function:\n",
      " A block of code that only runs when it is called.\n",
      "\n",
      "list:\n",
      " A list is a collection of items in a particular order.\n",
      "\n",
      "loop:\n",
      " A programming construct that repeats a block of code until a specified condition is met.\n",
      "\n",
      "dictionary:\n",
      " A collection which is unordered, changeable, and indexed. No duplicate members.\n",
      "\n",
      "module:\n",
      " A file containing Python definitions and statements.\n",
      "\n",
      "string:\n",
      " A sequence of characters, used to represent text.\n",
      "\n",
      "tuple:\n",
      " A collection which is ordered and unchangeable. Allows duplicate members.\n",
      "\n",
      "conditional statements:\n",
      " Allow you to check any condition of interest\n",
      "\n"
     ]
    }
   ],
   "source": [
    "\n",
    "glossary = {\n",
    "    \"variable\": \"A placeholder for storing data value.\",\n",
    "    \"comment\": \"A comment allows you to write notes in English in your parameters.\",\n",
    "    \"function\": \"A block of code that only runs when it is called.\",\n",
    "    \"list\": \"A list is a collection of items in a particular order.\",\n",
    "    \"loop\": \"A programming construct that repeats a block of code until a specified condition is met.\",\n",
    "    \"dictionary\": \"A collection which is unordered, changeable, and indexed. No duplicate members.\",\n",
    "    \"module\": \"A file containing Python definitions and statements.\",\n",
    "    \"string\": \"A sequence of characters, used to represent text.\",\n",
    "    \"tuple\": \"A collection which is ordered and unchangeable. Allows duplicate members.\",\n",
    "    \"conditional statements\": \"Allow you to check any condition of interest\"\n",
    "}\n",
    "\n",
    "\n",
    "for word, meaning in glossary.items():\n",
    "    print(f\"{word}:\\n {meaning}\\n\")\n"
   ]
  },
  {
   "cell_type": "markdown",
   "id": "9",
   "metadata": {
    "id": "9"
   },
   "source": [
    "## Question 5\n",
    "\n",
    "**Rivers:** Make a dictionary containing three major rivers and the country each river runs through. One key-value pair might be 'nile': 'egypt'.\n",
    "\n",
    "- Use a loop to print a sentence about each river, such as _The Nile runs through Egypt._\n",
    "- Use a loop to print the name of each river included in the dictionary.\n",
    "- Use a loop to print the name of each country included in the dictionary."
   ]
  },
  {
   "cell_type": "code",
   "execution_count": 5,
   "id": "10",
   "metadata": {
    "id": "10"
   },
   "outputs": [
    {
     "name": "stdout",
     "output_type": "stream",
     "text": [
      "Sentences about each river:\n",
      "The Nile runs through Egypt.\n",
      "The Amazon runs through Brazil.\n",
      "The Mississippi runs through United States.\n",
      "\n",
      "Names of rivers:\n",
      "Nile\n",
      "Amazon\n",
      "Mississippi\n",
      "\n",
      "Names of countries:\n",
      "Egypt\n",
      "Brazil\n",
      "United States\n"
     ]
    }
   ],
   "source": [
    "major_rivers = {\n",
    "    \"Nile\": \"Egypt\",\n",
    "    \"Amazon\": \"Brazil\",\n",
    "    \"Mississippi\": \"United States\"\n",
    "}\n",
    "\n",
    "print(\"Sentences about each river:\")\n",
    "for river, country in major_rivers.items():\n",
    "    print(f\"The {river} runs through {country}.\")\n",
    "\n",
    "\n",
    "print(\"\\nNames of rivers:\")\n",
    "for river in major_rivers:\n",
    "    print(river)\n",
    "\n",
    "\n",
    "print(\"\\nNames of countries:\")\n",
    "for country in major_rivers.values():\n",
    "    print(country)"
   ]
  },
  {
   "cell_type": "markdown",
   "id": "11",
   "metadata": {
    "id": "11"
   },
   "source": [
    "## Question 6\n",
    "\n",
    "**Cities:** Make a dictionary called `cities`. Use the names of three cities as keys in your dictionary. Create a dictionary of information about each city and include the country that the city is in, its approximate population, and one fact about that city. The keys for each city’s dictionary should be something like `country`, `population`, and `fact`. Print the name of each city and all of the information you have stored about it."
   ]
  },
  {
   "cell_type": "code",
   "execution_count": 6,
   "id": "12",
   "metadata": {
    "id": "12"
   },
   "outputs": [
    {
     "name": "stdout",
     "output_type": "stream",
     "text": [
      "Tokyo:\n",
      "Country: Japan\n",
      "Population: 37.4 million\n",
      "Fact: Tokyo is the largest metropolitan area in the world.\n",
      "\n",
      "New York:\n",
      "Country: United States\n",
      "Population: 8.4 million\n",
      "Fact: New York City is known as the city that never sleeps.\n",
      "\n",
      "London:\n",
      "Country: United Kingdom\n",
      "Population: 8.9 million\n",
      "Fact: London is home to the oldest pub in the world.\n",
      "\n"
     ]
    }
   ],
   "source": [
    "cities = {\n",
    "    \"Tokyo\": {\n",
    "        \"country\": \"Japan\",\n",
    "        \"population\": \"37.4 million\",\n",
    "        \"fact\": \"Tokyo is the largest metropolitan area in the world.\"\n",
    "    },\n",
    "    \"New York\": {\n",
    "        \"country\": \"United States\",\n",
    "        \"population\": \"8.4 million\",\n",
    "        \"fact\": \"New York City is known as the city that never sleeps.\"\n",
    "    },\n",
    "    \"London\": {\n",
    "        \"country\": \"United Kingdom\",\n",
    "        \"population\": \"8.9 million\",\n",
    "        \"fact\": \"London is home to the oldest pub in the world.\"\n",
    "    }\n",
    "}\n",
    "\n",
    "\n",
    "for city, info in cities.items():\n",
    "    print(f\"{city}:\")\n",
    "    print(f\"Country: {info['country']}\")\n",
    "    print(f\"Population: {info['population']}\")\n",
    "    print(f\"Fact: {info['fact']}\\n\")\n",
    "\n"
   ]
  },
  {
   "cell_type": "markdown",
   "id": "13",
   "metadata": {
    "id": "13"
   },
   "source": [
    "## Question 7\n",
    "\n",
    "**Rental Car:** Write a program that asks the user what kind of rental car they would like. Print a message about that car, such as “Let me see if I can find you a Subaru.”"
   ]
  },
  {
   "cell_type": "code",
   "execution_count": 7,
   "id": "14",
   "metadata": {
    "id": "14"
   },
   "outputs": [
    {
     "name": "stdin",
     "output_type": "stream",
     "text": [
      "What kind of rental car would you like?  Subaru\n"
     ]
    },
    {
     "name": "stdout",
     "output_type": "stream",
     "text": [
      "Let me see if I can find you a Subaru.\n"
     ]
    }
   ],
   "source": [
    "rental_car = input(\"What kind of rental car would you like? \")\n",
    "\n",
    "\n",
    "print(f\"Let me see if I can find you a {rental_car}.\")\n"
   ]
  },
  {
   "cell_type": "markdown",
   "id": "15",
   "metadata": {
    "id": "15"
   },
   "source": [
    "## Question 8\n",
    "\n",
    "**Restaurant Seating:** Write a program that asks the user how many people are in their dinner group. If the answer is more than eight, print a message saying they’ll have to wait for a table. Otherwise, report that their table is ready."
   ]
  },
  {
   "cell_type": "code",
   "execution_count": 8,
   "id": "16",
   "metadata": {
    "id": "16"
   },
   "outputs": [
    {
     "name": "stdin",
     "output_type": "stream",
     "text": [
      "How many people are in your dinner group?  10\n"
     ]
    },
    {
     "name": "stdout",
     "output_type": "stream",
     "text": [
      "Sorry you will have to wait for a table.\n"
     ]
    }
   ],
   "source": [
    "dinner_group = input(\"How many people are in your dinner group? \")\n",
    "dinner_group = int(dinner_group)\n",
    "if dinner_group > 8:\n",
    "    print (\"Sorry you will have to wait for a table.\")\n",
    "else: \n",
    "    print(\"Your table is ready.\")"
   ]
  },
  {
   "cell_type": "markdown",
   "id": "17",
   "metadata": {
    "id": "17"
   },
   "source": [
    "## Question 9\n",
    "\n",
    "**Multiples of Ten:** Ask the user for a number, and then report whether the number is a multiple of 10 or not."
   ]
  },
  {
   "cell_type": "code",
   "execution_count": 9,
   "id": "18",
   "metadata": {
    "id": "18"
   },
   "outputs": [
    {
     "name": "stdin",
     "output_type": "stream",
     "text": [
      "Please enter a number:  264\n"
     ]
    },
    {
     "name": "stdout",
     "output_type": "stream",
     "text": [
      "264 is not a multiple of 10.\n"
     ]
    }
   ],
   "source": [
    "number = input(\"Please enter a number: \")\n",
    "number = int(number)\n",
    "\n",
    "if number % 10 == 0:\n",
    "    print(f\"{number} is a multiple of 10.\")\n",
    "else:\n",
    "    print(f\"{number} is not a multiple of 10.\")\n"
   ]
  },
  {
   "cell_type": "markdown",
   "id": "19",
   "metadata": {
    "id": "19"
   },
   "source": [
    "## Question 10\n",
    "\n",
    "**Pizza Toppings:** Write a loop that prompts the user to enter a series of pizza toppings until they enter a 'quit' value. As they enter each topping, print a message saying you’ll add that topping to their pizza."
   ]
  },
  {
   "cell_type": "code",
   "execution_count": 10,
   "id": "20",
   "metadata": {
    "id": "20"
   },
   "outputs": [
    {
     "name": "stdin",
     "output_type": "stream",
     "text": [
      "Enter a pizza topping (enter 'quit' to finish):  pepperoni\n"
     ]
    },
    {
     "name": "stdout",
     "output_type": "stream",
     "text": [
      "Adding pepperoni to your pizza.\n"
     ]
    },
    {
     "name": "stdin",
     "output_type": "stream",
     "text": [
      "Enter a pizza topping (enter 'quit' to finish):  quit\n"
     ]
    },
    {
     "name": "stdout",
     "output_type": "stream",
     "text": [
      "\n",
      "Your pizza will have the following toppings:\n",
      "pepperoni\n"
     ]
    }
   ],
   "source": [
    "pizza_toppings = []\n",
    "\n",
    "while True:\n",
    "    topping = input(\"Enter a pizza topping (enter 'quit' to finish): \")\n",
    "\n",
    "    if topping.lower() == 'quit':\n",
    "        break  \n",
    "    \n",
    "    pizza_toppings.append(topping)\n",
    "    print(f\"Adding {topping} to your pizza.\")\n",
    "\n",
    "print(\"\\nYour pizza will have the following toppings:\")\n",
    "for topping in pizza_toppings:\n",
    "    print(topping)"
   ]
  },
  {
   "cell_type": "markdown",
   "id": "21",
   "metadata": {
    "id": "21"
   },
   "source": [
    "## Question 11\n",
    "\n",
    "**Message:** Write a function called `display_message()` that prints one sentence telling everyone what you are learning about in this chapter. Call the function, and make sure the message displays correctly."
   ]
  },
  {
   "cell_type": "code",
   "execution_count": 11,
   "id": "22",
   "metadata": {
    "id": "22"
   },
   "outputs": [
    {
     "name": "stdout",
     "output_type": "stream",
     "text": [
      "In this chapter, we are learning about functions in Python.\n"
     ]
    }
   ],
   "source": [
    "def display_message():\n",
    "    message = \"In this chapter, we are learning about functions in Python.\"\n",
    "    print(message)\n",
    "    \n",
    "display_message()\n"
   ]
  },
  {
   "cell_type": "markdown",
   "id": "23",
   "metadata": {
    "id": "23"
   },
   "source": [
    "## Question 12\n",
    "\n",
    "**Favorite Book:** Write a function called `favorite_book()` that accepts one parameter, title. The function should print a message, such as `One of my favorite books is Alice in Wonderland`. Call the function, making sure to include a book title as an argument in the function call."
   ]
  },
  {
   "cell_type": "code",
   "execution_count": 12,
   "id": "24",
   "metadata": {
    "id": "24"
   },
   "outputs": [
    {
     "name": "stdout",
     "output_type": "stream",
     "text": [
      "One of my favorite books is Invisible Man\n"
     ]
    }
   ],
   "source": [
    "def favorite_book(title):\n",
    "    print (f\"One of my favorite books is {title}\")\n",
    "    \n",
    "favorite_book(\"Invisible Man\")"
   ]
  },
  {
   "cell_type": "markdown",
   "id": "25",
   "metadata": {
    "id": "25"
   },
   "source": [
    "## Question 13\n",
    "\n",
    "**T-Shirt:** Write a function called `make_shirt()` that accepts a size and the text of a message that should be printed on the shirt. The function should print a sentence summarizing the size of the shirt and the message printed on it.\n",
    "\n",
    "Call the function once using positional arguments to make a shirt. Call the function a second time using keyword arguments."
   ]
  },
  {
   "cell_type": "code",
   "execution_count": 13,
   "id": "26",
   "metadata": {
    "id": "26"
   },
   "outputs": [
    {
     "name": "stdout",
     "output_type": "stream",
     "text": [
      "Shirt size: medium, Message: 'Dr.Wu's Class,'\n",
      "Shirt size: large, Message: 'Is the best!'\n"
     ]
    }
   ],
   "source": [
    "def make_shirt(size, message):\n",
    "    \"\"\"Prints a summary of the shirt size and message.\"\"\"\n",
    "    print(f\"Shirt size: {size.lower()}, Message: '{message}'\")\n",
    "\n",
    "make_shirt(\"medium\", \"Dr.Wu's Class,\")\n",
    "\n",
    "make_shirt(\"large\", \"Is the best!\")\n"
   ]
  },
  {
   "cell_type": "markdown",
   "id": "27",
   "metadata": {
    "id": "27"
   },
   "source": [
    "## Question 14\n",
    "\n",
    "**Large Shirts:** Modify the `make_shirt()` function so that shirts are large by default with a message that reads _I love Python_. Make a large shirt and a medium shirt with the default message, and a shirt of any size with a different message."
   ]
  },
  {
   "cell_type": "code",
   "execution_count": 14,
   "id": "28",
   "metadata": {
    "id": "28"
   },
   "outputs": [
    {
     "name": "stdout",
     "output_type": "stream",
     "text": [
      "Shirt size: Large, Message: 'I love Python'\n",
      "Shirt size: Medium, Message: 'I love Python'\n",
      "Shirt size: Small, Message: 'Keep calm and code on!'\n"
     ]
    }
   ],
   "source": [
    "def make_shirt(size=\"large\", message=\"I love Python\"):\n",
    "    print(f\"Shirt size: {size.title()}, Message: '{message}'\")\n",
    "\n",
    "make_shirt()\n",
    "\n",
    "make_shirt(\"medium\")\n",
    "\n",
    "make_shirt(\"small\", \"Keep calm and code on!\")"
   ]
  },
  {
   "cell_type": "markdown",
   "id": "29",
   "metadata": {
    "id": "29"
   },
   "source": [
    "## Question 15\n",
    "\n",
    "**Cities:** Write a function called `describe_city()` that accepts the name of a city and its country. The function should print a simple sentence, such as `Reykjavik is in Iceland`. Give the parameter for the country a default value. Call your function for three different cities, at least one of which is not in the default country."
   ]
  },
  {
   "cell_type": "code",
   "execution_count": 15,
   "id": "30",
   "metadata": {
    "id": "30"
   },
   "outputs": [
    {
     "name": "stdout",
     "output_type": "stream",
     "text": [
      "Tokyo is in Japan.\n",
      "Reykjavik is in Iceland.\n",
      "Toronto is in Canada.\n"
     ]
    }
   ],
   "source": [
    "def describe_city(city, country=\"Iceland\"):\n",
    "  print(f\"{city.title()} is in {country.title()}.\")\n",
    "\n",
    "describe_city(\"Tokyo\", \"Japan\")\n",
    "describe_city(\"Reykjavik\")\n",
    "describe_city(\"Toronto\", \"Canada\")"
   ]
  },
  {
   "cell_type": "markdown",
   "id": "31",
   "metadata": {
    "id": "31"
   },
   "source": [
    "## Question 16\n",
    "\n",
    "**City Names:** Write a function called `city_country()` that takes in the name of a city and its country. The function should return a string formatted like this:\n",
    "\n",
    "```text\n",
    "Santiago, Chile\n",
    "```\n",
    "\n",
    "Call your function with at least three city-country pairs, and print the values that are returned."
   ]
  },
  {
   "cell_type": "code",
   "execution_count": 16,
   "id": "32",
   "metadata": {
    "id": "32"
   },
   "outputs": [
    {
     "name": "stdout",
     "output_type": "stream",
     "text": [
      "London, England\n",
      "Cairo, Egypt\n",
      "New York City, Usa\n"
     ]
    }
   ],
   "source": [
    "def city_country(city, country):\n",
    "  return f\"{city.title()}, {country.title()}\"\n",
    "\n",
    "print(city_country(\"london\", \"england\"))\n",
    "print(city_country(\"cairo\", \"egypt\"))\n",
    "print(city_country(\"new york city\", \"usa\"))"
   ]
  },
  {
   "cell_type": "markdown",
   "id": "33",
   "metadata": {
    "id": "33"
   },
   "source": [
    "## Question 17\n",
    "\n",
    "**Album:** Write a function called `make_album()` that builds a dictionary describing a music album. The function should take in an artist name and an album title, and it should return a dictionary containing these two pieces of information. Use the function to make three dictionaries representing different albums. Print each return value to show that the dictionaries are storing the album information correctly.\n",
    "\n",
    "Use None to add an optional parameter to make_album() that allows you to store the number of songs on an album. If the calling line includes a value for the number of songs, add that value to the album’s dictionary. Make at least one new function call that includes the number of songs on an album."
   ]
  },
  {
   "cell_type": "code",
   "execution_count": 17,
   "id": "34",
   "metadata": {
    "id": "34"
   },
   "outputs": [
    {
     "name": "stdout",
     "output_type": "stream",
     "text": [
      "{'artist': 'Grateful Dead', 'album': 'American Beauty'}\n",
      "{'artist': 'The Beatles', 'album': 'Abbey Road'}\n",
      "{'artist': 'Kendrick Lamar', 'album': 'To Pimp A Butterfly', 'songs': 16}\n"
     ]
    }
   ],
   "source": [
    "def make_album(artist_name, album_title, number_of_songs=None):\n",
    "  album = {'artist': artist_name.title(), 'album': album_title.title()}\n",
    "  if number_of_songs:\n",
    "    album['songs'] = number_of_songs\n",
    "  return album\n",
    "\n",
    "album1 = make_album(\"grateful dead\", \"american beauty\")\n",
    "album2 = make_album(\"the beatles\", \"abbey road\")\n",
    "album3 = make_album(\"kendrick lamar\", \"to pimp a butterfly\", 16)\n",
    "\n",
    "print(album1)\n",
    "print(album2)\n",
    "print(album3)"
   ]
  },
  {
   "cell_type": "markdown",
   "id": "35",
   "metadata": {
    "id": "35"
   },
   "source": [
    "## Question 18\n",
    "\n",
    "**User Albums:** Start with your program from Question 17. Write a `while` loop that allows users to enter an album’s artist and title. Once you have that information, call `make_album()` with the user’s input and print the dictionary that’s created. Be sure to include a quit value in the `while` loop."
   ]
  },
  {
   "cell_type": "code",
   "execution_count": null,
   "id": "36",
   "metadata": {
    "id": "36"
   },
   "outputs": [
    {
     "name": "stdout",
     "output_type": "stream",
     "text": [
      "\n",
      "Enter 'q' to quit.\n"
     ]
    },
    {
     "name": "stdin",
     "output_type": "stream",
     "text": [
      "Artist name:  Grateful Dead\n",
      "Album title:  Workingmans Dead\n",
      "Number of songs (optional):  12\n"
     ]
    },
    {
     "name": "stdout",
     "output_type": "stream",
     "text": [
      "{'artist': 'Grateful Dead', 'album': 'Workingmans Dead', 'songs': 12}\n",
      "\n",
      "Enter 'q' to quit.\n"
     ]
    }
   ],
   "source": [
    "def make_album(artist_name, album_title, number_of_songs=None):\n",
    "\n",
    "  album = {'artist': artist_name.title(), 'album': album_title.title()}\n",
    "  if number_of_songs:\n",
    "    album['songs'] = number_of_songs\n",
    "  return album\n",
    "\n",
    "while True:\n",
    "  print(\"\\nEnter 'q' to quit.\")\n",
    "  artist_name = input(\"Artist name: \")\n",
    "  if artist_name.lower() == 'q':\n",
    "    break\n",
    "\n",
    "  album_title = input(\"Album title: \")\n",
    "\n",
    "  number_of_songs = input(\"Number of songs (optional): \")\n",
    "  if number_of_songs.isdigit():\n",
    "    number_of_songs = int(number_of_songs)\n",
    "  else:\n",
    "    number_of_songs = None\n",
    "\n",
    "  album = make_album(artist_name, album_title, number_of_songs)\n",
    "  print(album)"
   ]
  },
  {
   "cell_type": "markdown",
   "id": "37",
   "metadata": {
    "id": "37"
   },
   "source": [
    "## Question 19\n",
    "\n",
    "**Messages:** Make a list containing a series of short text messages. Pass the list to a function called `show_messages()`, which prints each text message."
   ]
  },
  {
   "cell_type": "code",
   "execution_count": null,
   "id": "38",
   "metadata": {
    "id": "38"
   },
   "outputs": [],
   "source": [
    "def show_messages(messages):  \n",
    "  for message in messages:\n",
    "    print(message)\n",
    "\n",
    "messages = [\"Whats up!\", \"Whats going on?\", \"See you later, alligator!\"]\n",
    "\n",
    "show_messages (messages)"
   ]
  },
  {
   "cell_type": "markdown",
   "id": "39",
   "metadata": {
    "id": "39",
    "tags": []
   },
   "source": [
    "## Question 20\n",
    "\n",
    "**Sending Messages:** Start with a copy of your program from Question 19. Write a function called `send_messages()` that prints each text message and moves each message to a new list called `sent_messages` as it’s printed. After calling the function, print both of your lists to make sure the messages were moved correctly."
   ]
  },
  {
   "cell_type": "code",
   "execution_count": null,
   "id": "bb3bedbd-0c53-4b88-8848-b5d4070e87dc",
   "metadata": {
    "tags": []
   },
   "outputs": [],
   "source": [
    "def show_messages(messages):\n",
    "  \"\"\"Prints each text message in a list\"\"\"\n",
    "  for message in messages:\n",
    "    print(message)\n",
    "\n",
    "def send_messages(messages, sent_messages):\n",
    "  \"\"\"Prints and moves each message to a new list\"\"\"\n",
    "  while messages:\n",
    "    message = messages.pop()  # Move the last message to the sent list\n",
    "    sent_messages.append(message)\n",
    "    print(message)\n",
    "\n",
    "# Create a list of text messages\n",
    "messages = [\"Morning!\", \"How are you doing today?\", \"See you later!\"]\n",
    "sent_messages = []\n",
    "\n",
    "# Call the send_messages function with the lists\n",
    "send_messages(messages, sent_messages)\n",
    "\n",
    "print(\"\\nOriginal messages list:\")\n",
    "print(messages)  # Should be empty\n",
    "\n",
    "print(\"\\nSent messages list:\")\n",
    "print(sent_messages)  # Should contain the original messages\n"
   ]
  },
  {
   "cell_type": "markdown",
   "id": "41",
   "metadata": {
    "id": "41"
   },
   "source": [
    "## Question 21\n",
    "\n",
    "**Learning Python:** Open a blank file in your text editor and write a few lines summarizing what you’ve learned about Python so far. Start each line with the phrase _In Python you can. . .._ Save the file as _learning_python.txt_ in the same directory as your exercises from this chapter. Write a program that reads the file and prints what you wrote three times. Print the contents once by reading in the entire file, once by looping over the file object, and once by storing the lines in a list and then working with them outside the _with_ block."
   ]
  },
  {
   "cell_type": "code",
   "execution_count": null,
   "id": "42",
   "metadata": {
    "id": "42"
   },
   "outputs": [],
   "source": []
  },
  {
   "cell_type": "markdown",
   "id": "43",
   "metadata": {
    "id": "43"
   },
   "source": [
    "## Question 22\n",
    "\n",
    "**Learning C:** You can use the replace() method to replace any word in a string with a different word. Here’s a quick example showing how to replace 'dog' with 'cat' in a sentence:\n",
    "\n",
    "```text\n",
    "message = \"I really like dogs.\"\n",
    "message.replace('dog', 'cat')\n",
    "'I really like cats.'\n",
    "```\n",
    "\n",
    "Read in each line from the file you just created, _learning_python.txt_, and replace the word _Python_ with the name of another language, such as _C_. Print each modified line to the screen."
   ]
  },
  {
   "cell_type": "code",
   "execution_count": null,
   "id": "44",
   "metadata": {
    "id": "44"
   },
   "outputs": [],
   "source": []
  },
  {
   "cell_type": "markdown",
   "id": "45",
   "metadata": {
    "id": "45"
   },
   "source": [
    "## Question 23\n",
    "\n",
    "**Guest:** Write a program that prompts the user for their name. When they respond, write their name to a file called guest.txt."
   ]
  },
  {
   "cell_type": "code",
   "execution_count": null,
   "id": "46",
   "metadata": {
    "id": "46"
   },
   "outputs": [],
   "source": []
  },
  {
   "cell_type": "markdown",
   "id": "47",
   "metadata": {
    "id": "47"
   },
   "source": [
    "## Question 24\n",
    "\n",
    "**Guest Book:** Write a while loop that prompts users for their name. When they enter their name, print a greeting to the screen and add a line recording their visit in a file called guest_book.txt. Make sure each entry appears on a new line in the file."
   ]
  },
  {
   "cell_type": "code",
   "execution_count": null,
   "id": "48",
   "metadata": {
    "id": "48"
   },
   "outputs": [],
   "source": []
  },
  {
   "cell_type": "markdown",
   "id": "49",
   "metadata": {
    "id": "49"
   },
   "source": [
    "## Question 25\n",
    "\n",
    "**Programming Poll:** Write a while loop that asks people why they like programming. Each time someone enters a reason, add their reason to a file that stores all the responses."
   ]
  },
  {
   "cell_type": "code",
   "execution_count": null,
   "id": "50",
   "metadata": {
    "id": "50"
   },
   "outputs": [],
   "source": []
  },
  {
   "cell_type": "markdown",
   "id": "51",
   "metadata": {
    "id": "51"
   },
   "source": [
    "## Question 26\n",
    "\n",
    "**Addition:** One common problem when prompting for numerical input occurs when people provide text instead of numbers. When you try to convert the input to an int, you’ll get a ValueError. Write a program that prompts for two numbers. Add them together and print the result. Catch the ValueError if either input value is not a number, and print a friendly error message. Test your program by entering two numbers and then by entering some text instead of a number."
   ]
  },
  {
   "cell_type": "code",
   "execution_count": null,
   "id": "52",
   "metadata": {
    "id": "52"
   },
   "outputs": [],
   "source": []
  },
  {
   "cell_type": "markdown",
   "id": "53",
   "metadata": {
    "id": "53"
   },
   "source": [
    "## Question 27\n",
    "\n",
    "**Addition Calculator:** Wrap your code from Question 26 in a while loop so the user can continue entering numbers even if they make a mistake and enter text instead of a number."
   ]
  },
  {
   "cell_type": "code",
   "execution_count": null,
   "id": "54",
   "metadata": {
    "id": "54"
   },
   "outputs": [],
   "source": []
  },
  {
   "cell_type": "markdown",
   "id": "55",
   "metadata": {
    "id": "55"
   },
   "source": [
    "## Question 28\n",
    "\n",
    "**Cats and Dogs:** Make two files, _cats.txt_ and _dogs.txt_. Store at least three names of cats in the first file and three names of dogs in the second file. Write a program that tries to read these files and print the contents of the file to the screen. Wrap your code in a `try-except` block to catch the `FileNotFound` error, and print a friendly message if a file is missing. Move one of the files to a different location on your system, and make sure the code in the `except` block executes properly."
   ]
  },
  {
   "cell_type": "code",
   "execution_count": null,
   "id": "56",
   "metadata": {
    "id": "56"
   },
   "outputs": [],
   "source": []
  },
  {
   "cell_type": "markdown",
   "id": "57",
   "metadata": {
    "id": "57"
   },
   "source": [
    "## Question 29\n",
    "\n",
    "**Silent Cats and Dogs:** Modify your except block in Question 28 to fail silently if either file is missing."
   ]
  },
  {
   "cell_type": "code",
   "execution_count": null,
   "id": "58",
   "metadata": {
    "id": "58"
   },
   "outputs": [],
   "source": []
  },
  {
   "cell_type": "markdown",
   "id": "59",
   "metadata": {
    "id": "59"
   },
   "source": [
    "## Question 30\n",
    "\n",
    "**Common Words:** Visit Project Gutenberg (<https://gutenberg.org/>) and find a few texts you’d like to analyze. Download the text files for these works, or copy the raw text from your browser into a text file on your computer. You can use the `count()` method to find out how many times a word or phrase appears in a string. For example, the following code counts the number of times 'row' appears in a string:"
   ]
  },
  {
   "cell_type": "code",
   "execution_count": null,
   "id": "60",
   "metadata": {
    "id": "60"
   },
   "outputs": [],
   "source": [
    "line = \"Row, row, row your boat\"\n",
    "line.count(\"row\")"
   ]
  },
  {
   "cell_type": "code",
   "execution_count": null,
   "id": "61",
   "metadata": {
    "id": "61"
   },
   "outputs": [],
   "source": [
    "line.lower().count(\"row\")"
   ]
  },
  {
   "cell_type": "markdown",
   "id": "62",
   "metadata": {
    "id": "62"
   },
   "source": [
    "Notice that converting the string to lowercase using lower() catches all appearances of the word you’re looking for, regardless of how it’s formatted.\n",
    "\n",
    "Write a program that reads the files you found at Project Gutenberg and determines how many times the word `the` appears in each text. This will be an approximation because it will also count words such as `then` and `there`. Try counting `the`, with a space in the string, and see how much lower your count is."
   ]
  },
  {
   "cell_type": "code",
   "execution_count": null,
   "id": "63",
   "metadata": {
    "id": "63"
   },
   "outputs": [],
   "source": []
  }
 ],
 "metadata": {
  "colab": {
   "provenance": []
  },
  "kernelspec": {
   "display_name": "Python 3 (ipykernel)",
   "language": "python",
   "name": "python3"
  },
  "language_info": {
   "codemirror_mode": {
    "name": "ipython",
    "version": 3
   },
   "file_extension": ".py",
   "mimetype": "text/x-python",
   "name": "python",
   "nbconvert_exporter": "python",
   "pygments_lexer": "ipython3",
   "version": "3.11.5"
  }
 },
 "nbformat": 4,
 "nbformat_minor": 5
}
